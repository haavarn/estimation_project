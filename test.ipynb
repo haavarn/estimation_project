{
 "nbformat": 4,
 "nbformat_minor": 2,
 "metadata": {
  "language_info": {
   "name": "python",
   "codemirror_mode": {
    "name": "ipython",
    "version": 3
   },
   "version": "3.6.5-final"
  },
  "orig_nbformat": 2,
  "file_extension": ".py",
  "mimetype": "text/x-python",
  "name": "python",
  "npconvert_exporter": "python",
  "pygments_lexer": "ipython3",
  "version": 3,
  "kernelspec": {
   "name": "python3",
   "display_name": "Python 3"
  }
 },
 "cells": [
  {
   "cell_type": "code",
   "execution_count": 85,
   "metadata": {},
   "outputs": [],
   "source": [
    "import numpy as np \n",
    "from numpy.linalg import inv\n",
    "\n",
    "q = np.random.normal(0, 1, (4)) + \\\n",
    "    np.random.normal(0, 1, (4))*1j\n",
    "\n",
    "n = np.linspace(0,10,4)"
   ]
  },
  {
   "cell_type": "code",
   "execution_count": 86,
   "metadata": {},
   "outputs": [
    {
     "output_type": "execute_result",
     "data": {
      "text/plain": "array([ 0.        , -0.19056796,  0.37415123, -0.54402111])"
     },
     "metadata": {},
     "execution_count": 86
    }
   ],
   "source": [
    "np.imag(np.exp(1j*(n)))"
   ]
  },
  {
   "cell_type": "code",
   "execution_count": 87,
   "metadata": {},
   "outputs": [
    {
     "output_type": "stream",
     "name": "stdout",
     "text": "[3. 4. 5. 6.]\n"
    }
   ],
   "source": [
    "a = np.linspace(3, 3+4-1, 4)\n",
    "len(a)\n",
    "print(a)"
   ]
  },
  {
   "cell_type": "code",
   "execution_count": 88,
   "metadata": {},
   "outputs": [
    {
     "output_type": "execute_result",
     "data": {
      "text/plain": "4.0"
     },
     "metadata": {},
     "execution_count": 88
    }
   ],
   "source": [
    "np.imag(3+4j)"
   ]
  },
  {
   "cell_type": "code",
   "execution_count": 89,
   "metadata": {},
   "outputs": [
    {
     "output_type": "stream",
     "name": "stdout",
     "text": "[0 1 2 3]\n[1. 1. 1. 1.]\n[[0. 1.]\n [1. 1.]\n [2. 1.]\n [3. 1.]]\n[1. 2. 3. 4.]\n"
    }
   ],
   "source": [
    "n_0 = 0\n",
    "T = 1\n",
    "N = 4\n",
    "\n",
    "v1 = np.arange(n_0, n_0+N)\n",
    "v2 = np.ones(N)\n",
    "\n",
    "print(v1)\n",
    "print(v2)\n",
    "H = np.vstack([v1,v2]).T\n",
    "\n",
    "a = np.array([1,1])\n",
    "\n",
    "print(H)\n",
    "\n",
    "print(H@a)"
   ]
  },
  {
   "cell_type": "code",
   "execution_count": 90,
   "metadata": {},
   "outputs": [
    {
     "output_type": "stream",
     "name": "stdout",
     "text": "[[ 1.28571429 -0.28571429 -0.14285714]\n [-0.47619048  0.14285714  0.23809524]\n [ 0.19047619  0.14285714 -0.0952381 ]]\n"
    }
   ],
   "source": [
    "m = np.array([[ 1, 1, 1],[ 0, 2, 5],[ 2, 5, -1]])\n",
    "print(inv(m))"
   ]
  },
  {
   "cell_type": "code",
   "execution_count": 91,
   "metadata": {},
   "outputs": [
    {
     "output_type": "stream",
     "name": "stdout",
     "text": "[[1.66666667 1.66666667]\n [1.66666667 1.66666667]]\n"
    }
   ],
   "source": [
    "C = np.cov(v1.reshape(-1,1).T,v1.reshape(-1,1).T)\n",
    "\n",
    "print(C)"
   ]
  },
  {
   "cell_type": "code",
   "execution_count": 92,
   "metadata": {},
   "outputs": [
    {
     "output_type": "stream",
     "name": "stdout",
     "text": "1.5\n[-1.5 -0.5  0.5  1.5]\n[[-1.5]\n [-0.5]\n [ 0.5]\n [ 1.5]]\n[[ 2.25  0.75 -0.75 -2.25]\n [ 0.75  0.25 -0.25 -0.75]\n [-0.75 -0.25  0.25  0.75]\n [-2.25 -0.75  0.75  2.25]]\n"
    }
   ],
   "source": [
    "avg = np.average(v1)\n",
    "print(avg)\n",
    "\n",
    "v = v1-avg \n",
    "vt = v.reshape(-1,1)\n",
    "\n",
    "print(v)\n",
    "print(vt)\n",
    "\n",
    "cv = v * vt\n",
    "\n",
    "print(cv)"
   ]
  },
  {
   "cell_type": "code",
   "execution_count": 98,
   "metadata": {},
   "outputs": [
    {
     "output_type": "stream",
     "name": "stdout",
     "text": "[[1 1 0]\n [0 2 2]\n [0 0 3]]\n"
    }
   ],
   "source": [
    "x = np.array([1,2,3])\n",
    "D = np.diag(x) + np.diag(x[:-1], 1)\n",
    "print(D)"
   ]
  },
  {
   "cell_type": "code",
   "execution_count": 103,
   "metadata": {},
   "outputs": [
    {
     "output_type": "stream",
     "name": "stdout",
     "text": "[[1. 1. 1.]\n [1. 2. 2.]\n [1. 2. 3.]]\n"
    }
   ],
   "source": [
    "    x = np.ones(3)\n",
    "    A = -np.diag(x) + np.diag(x[:-1], 1)\n",
    "    C = A @ A.T\n",
    "    print(inv(C))"
   ]
  },
  {
   "cell_type": "code",
   "execution_count": 104,
   "metadata": {},
   "outputs": [
    {
     "output_type": "execute_result",
     "data": {
      "text/plain": "array([[1.],\n       [1.],\n       [1.]])"
     },
     "metadata": {},
     "execution_count": 104
    }
   ],
   "source": [
    "np.vstack(x)"
   ]
  },
  {
   "cell_type": "code",
   "execution_count": null,
   "metadata": {},
   "outputs": [],
   "source": []
  }
 ]
}